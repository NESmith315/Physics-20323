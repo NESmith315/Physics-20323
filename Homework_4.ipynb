{
 "cells": [
  {
   "cell_type": "markdown",
   "metadata": {},
   "source": [
    "# Homework 4 - Due Friday Sept 23, 5pm"
   ]
  },
  {
   "cell_type": "markdown",
   "metadata": {},
   "source": [
    "*The semi-empirical mass formula*\n",
    "\n",
    "In nuclear physics, the semi-empirical mass formula is a formula for calculating the\n",
    "approximate nuclear binding energy $B$ of an atomic nucleus with atomic number $Z$\n",
    "and mass number $A$. The formula looks like this:\n",
    "    \n",
    "$$ B = a_1 A - a_2 A^{2/3} - a_3 \\frac{Z^2}{A^{1/3}} - a_4 \\frac{(A - 2Z)^2}{A} - \\frac{a_5}{A^{1/2}} $$\n",
    "\n",
    "where, in units of millions of electron volts (MeV), the constants are $a_1 =\n",
    "15.67$, $a_2 = 17.23$, $a_3 = 0.75$, $a_4 = 93.2$, and\n",
    "\n",
    "$$ a_5  \\; =  \\;\\; \\left\\{ \\begin{array} {r@{\\quad\\tt if \\quad}l} 0 & A \\;{\\tt is\n",
    "      \\; odd}, \\\\\n",
    "    12.0 & A \\;{\\tt and}\\; Z \\;{\\tt are \\;both \\;even}, \\\\ -12.0 & A \\;{\\tt is\n",
    "     \\;  even \\; and}\\;  Z \\;{\\tt is\n",
    "  \\;  odd.} \\end{array} \\right. $$\n",
    "\n",
    "Write a function that takes as its input the values of $A$ and $Z$, and\n",
    "prints out: \n",
    "* (a) the binding energy $B$ for the corresponding atom and \n",
    "* (b) the binding energy per nucleon, which is $B/A$. \n",
    "\n",
    "Use your program to find\n",
    "the binding energy of an atom with $A = 58$ and $Z = 28$. (Hint: The\n",
    "correct answer is around 490 MeV.) \n",
    "\n",
    "Also run,  $A = 59$ and $Z = 28$ and $A = 58$ and $Z = 27$.\n"
   ]
  },
  {
   "cell_type": "code",
   "execution_count": 8,
   "metadata": {},
   "outputs": [
    {
     "name": "stdout",
     "output_type": "stream",
     "text": [
      "The binding energy B for the atom with a mass number of 58 and an atomic number of 28 is 490.78425241273493 MeV.\n",
      "The binding energy per nucleon is 8.46179745539198 MeV.\n",
      "The binding energy B for the atom with a mass number of 59 and an atomic number of 28 is 498.144677545714 MeV.\n",
      "The binding energy per nucleon is 8.443130127893458 MeV.\n",
      "The binding energy B for the atom with a mass number of 58 and an atomic number of 27 is 485.30934897614435 MeV.\n",
      "The binding energy per nucleon is 8.367402568554214 MeV.\n"
     ]
    }
   ],
   "source": [
    "#Your code here\n",
    "def semi_empi_mass(A, Z):\n",
    "    a1 = 15.67\n",
    "    a2 = 17.23\n",
    "    a3 = 0.75\n",
    "    a4 = 93.2\n",
    "    a5 = 0\n",
    "    if A % 2 == 0:\n",
    "        if Z % 2 == 0:\n",
    "            a5 = 12.0\n",
    "        else:\n",
    "            a5 = -12.0\n",
    "    B = a1 * A - a2 * A ** (2 / 3) - a3 * Z ** 2 / A ** (1 / 3) - a4 * (A - 2 * Z) ** 2 / A - a5 / A ** (1 / 2)\n",
    "    print(\"The binding energy B for the atom with a mass number of \" + str(A) + \" and an atomic number of \" + str(Z) + \" is \" + str(B) + \" MeV.\")\n",
    "    print(\"The binding energy per nucleon is \" + str(B / A) + \" MeV.\")\n",
    "\n",
    "semi_empi_mass(58, 28)\n",
    "semi_empi_mass(59, 28)\n",
    "semi_empi_mass(58, 27)"
   ]
  },
  {
   "cell_type": "code",
   "execution_count": null,
   "metadata": {},
   "outputs": [],
   "source": []
  }
 ],
 "metadata": {
  "kernelspec": {
   "display_name": "Python 3 (ipykernel)",
   "language": "python",
   "name": "python3"
  },
  "language_info": {
   "codemirror_mode": {
    "name": "ipython",
    "version": 3
   },
   "file_extension": ".py",
   "mimetype": "text/x-python",
   "name": "python",
   "nbconvert_exporter": "python",
   "pygments_lexer": "ipython3",
   "version": "3.9.12"
  }
 },
 "nbformat": 4,
 "nbformat_minor": 4
}
