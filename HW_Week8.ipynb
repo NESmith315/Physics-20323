{
 "cells": [
  {
   "cell_type": "markdown",
   "metadata": {},
   "source": [
    "# PHYS 20323/60323 Homework Week 8\n",
    "\n",
    "FALL 2022\n"
   ]
  },
  {
   "cell_type": "markdown",
   "metadata": {},
   "source": [
    "### 1) Altitude of a satellite\n",
    "\n",
    "A satellite is to be launched into a circular orbit around the Earth so that it orbits the planet once every T seconds.\n",
    "\n",
    "The altitude h above the Earth’s surface that the satellite must have is:\n",
    "\n",
    "$$h = \\left( \\frac{G M T^2}{4\\pi^2} \\right)^{1/3} - R$$\n",
    "\n",
    "where $G = 6.67 \\times 10^{-11}$ m$^3$ kg$^{-1}$ s$^{-2}$\n",
    "is Newton's gravitational constant, $M = 5.97 \\times 10^{24}$ kg is the mass of the Earth, and $R = 6371$ km is its radius.\n",
    "\n",
    "#### Write a program that asks the user to enter the desired value of T and then calculates and prints out the correct altitude in meters.\n"
   ]
  },
  {
   "cell_type": "code",
   "execution_count": 3,
   "metadata": {},
   "outputs": [],
   "source": [
    "import math\n",
    "\n",
    "def earth_orbit_height():\n",
    "    time = float(input(\"Input the number of seconds you want the satellite to orbit: \"))\n",
    "    G = 6.67 * 10 ** -11\n",
    "    M = 5.97 * 10 ** 24\n",
    "    R = 6371000\n",
    "    h = (G * M * time ** 2 / (4 * math.pi ** 2)) ** (1 / 3) - R\n",
    "    print(\"The satellite will need to be at a height of \" + str(h) + \" meters.\")\n",
    "    return h\n",
    "\n",
    "#def earth_orbit_height2():\n",
    "#    time = float(input(\"Input the number of seconds you want the satellite to orbit: \"))\n",
    "#    G = 6.67 / 10 ** 11\n",
    "#    M = 5.97 * 10 ** 24\n",
    "#    R = 6371000\n",
    "#    h = (G * M * time ** 2 / (4 * math.pi ** 2)) ** (1 / 3) - R\n",
    "#    print(\"The satellite will need to be at a height of \" + str(h) + \" meters.\")"
   ]
  },
  {
   "cell_type": "markdown",
   "metadata": {},
   "source": [
    "Use your program to calculate the altitudes of satellites that orbit the Earth once\n",
    "a day (so-called “geosynchronous” orbit), once every 90 minutes, and once every\n",
    "45 minutes. What do you conclude from the last of these calculations?\n",
    "\n",
    "\n",
    "\n"
   ]
  },
  {
   "cell_type": "code",
   "execution_count": 4,
   "metadata": {},
   "outputs": [
    {
     "name": "stdout",
     "output_type": "stream",
     "text": [
      "Input the number of seconds you want the satellite to orbit: 86400\n",
      "The satellite will need to be at a height of 35855910.17617497 meters.\n",
      "Input the number of seconds you want the satellite to orbit: 5400\n",
      "The satellite will need to be at a height of 279321.62537285965 meters.\n",
      "Input the number of seconds you want the satellite to orbit: 2700\n",
      "The satellite will need to be at a height of -2181559.8978108233 meters.\n"
     ]
    },
    {
     "data": {
      "text/plain": [
       "-2181559.8978108233"
      ]
     },
     "execution_count": 4,
     "metadata": {},
     "output_type": "execute_result"
    }
   ],
   "source": [
    "earth_orbit_height()\n",
    "#earth_orbit_height2()\n",
    "earth_orbit_height()\n",
    "#earth_orbit_height2()\n",
    "earth_orbit_height()\n",
    "#earth_orbit_height2()"
   ]
  },
  {
   "cell_type": "markdown",
   "metadata": {},
   "source": [
    "Technically a geosynchronous satellite is one that orbits the Earth once persidereal\n",
    "day, which is 23.93 hours, not 24 hours. Why is this? And how much difference\n",
    "will it make to the altitude of the satellite?"
   ]
  },
  {
   "cell_type": "code",
   "execution_count": 5,
   "metadata": {},
   "outputs": [
    {
     "name": "stdout",
     "output_type": "stream",
     "text": [
      "Input the number of seconds you want the satellite to orbit: 86400\n",
      "The satellite will need to be at a height of 35855910.17617497 meters.\n",
      "Input the number of seconds you want the satellite to orbit: 86148\n",
      "The satellite will need to be at a height of 35773762.329895645 meters.\n"
     ]
    },
    {
     "data": {
      "text/plain": [
       "82147.8462793231"
      ]
     },
     "execution_count": 5,
     "metadata": {},
     "output_type": "execute_result"
    }
   ],
   "source": [
    "earth_orbit_height() - earth_orbit_height()"
   ]
  },
  {
   "cell_type": "markdown",
   "metadata": {},
   "source": [
    "### 2) Special Relativity\n",
    "\n",
    "A spaceship travels from Earth in a straight line at a (relativistic)\n",
    "speed $v$ to another planet $x$ light years away. Write a program to ask\n",
    "the user for the value of $x$ and the speed $v$ as a fraction of the speed\n",
    "of light, then print out the time in years that the spaceship takes to\n",
    "reach its destination (a) in the rest frame of an observer on Earth\n",
    "and (b) as perceived by a passenger on board the ship.\n",
    "\n",
    "$$x' = \\gamma (x - vt)$$\n",
    "\n",
    "$$t' = \\gamma \\left(t - \\frac{v x}{c^2}\\right)$$\n",
    "\n",
    "$$\\gamma = \\frac{1}{\\sqrt{1 - \\frac{v^2}{c^2}}}$$\n"
   ]
  },
  {
   "cell_type": "code",
   "execution_count": 9,
   "metadata": {},
   "outputs": [],
   "source": [
    "def years_to_travel_rest_and_passenger():\n",
    "    x = float(input(\"Input the number of light years away the planet is: \"))\n",
    "    voverc = float(input(\"Input the speed of the spaceship as a fraction of the speed of light: \"))\n",
    "    c = 3 * 10 ** 8\n",
    "    trest = x / voverc\n",
    "    gamma = 1 / (1 - voverc ** 2) ** (1 / 2)\n",
    "    tpassenger = gamma * (trest - voverc * x)\n",
    "    print(\"It will take \" + str(trest) + \" years for the spaceship to reach the planet in the rest frame.\")\n",
    "    print(\"It will take \" + str(tpassenger) + \" years for the spaceship to reach the planet as perceived by a passenger.\")\n",
    "\n",
    "#def years_to_travel_rest_and_passenger2():\n",
    "#    x = float(input(\"Input the number of light years away the planet is: \"))\n",
    "#    voverc = float(input(\"Input the speed of the spaceship as a fraction of the speed of light: \"))\n",
    "#    c = 3 * 10 ** 8\n",
    "#    trest = x / voverc\n",
    "#    gamma = 1 / math.sqrt(1 - voverc ** 2)\n",
    "#    tpassenger = gamma * (trest - voverc * x)\n",
    "#    print(\"It will take \" + str(trest) + \" years for the spaceship to reach the planet in the rest frame.\")\n",
    "#    print(\"It will take \" + str(tpassenger) + \" years for the spaceship to reach the planet as perceived by a passenger.\")"
   ]
  },
  {
   "cell_type": "markdown",
   "metadata": {},
   "source": [
    "#### Use your program to calculate the answers for a planet 10 light years away with $v = 0.90c$,  $v = 0.98c$, $v = 0.999c$."
   ]
  },
  {
   "cell_type": "code",
   "execution_count": 10,
   "metadata": {},
   "outputs": [
    {
     "name": "stdout",
     "output_type": "stream",
     "text": [
      "Input the number of light years away the planet is: 10\n",
      "Input the speed of the spaceship as a fraction of the speed of light: 0.90\n",
      "It will take 11.11111111111111 years for the spaceship to reach the planet in the rest frame.\n",
      "It will take 4.843221048378526 years for the spaceship to reach the planet as perceived by a passenger.\n",
      "Input the number of light years away the planet is: 10\n",
      "Input the speed of the spaceship as a fraction of the speed of light: 0.98\n",
      "It will take 10.204081632653061 years for the spaceship to reach the planet in the rest frame.\n",
      "It will take 2.0305866063400337 years for the spaceship to reach the planet as perceived by a passenger.\n",
      "Input the number of light years away the planet is: 10\n",
      "Input the speed of the spaceship as a fraction of the speed of light: 0.999\n",
      "It will take 10.01001001001001 years for the spaceship to reach the planet in the rest frame.\n",
      "It will take 0.4475493274496109 years for the spaceship to reach the planet as perceived by a passenger.\n"
     ]
    }
   ],
   "source": [
    "years_to_travel_rest_and_passenger()\n",
    "#years_to_travel_rest_and_passenger2()\n",
    "years_to_travel_rest_and_passenger()\n",
    "#years_to_travel_rest_and_passenger2()\n",
    "years_to_travel_rest_and_passenger()\n",
    "#years_to_travel_rest_and_passenger2()"
   ]
  },
  {
   "cell_type": "markdown",
   "metadata": {},
   "source": [
    "### 3) The quadratic equation\n",
    "\n",
    " Write a program that takes as input three numbers, $a$, $b$, and $c$, and prints out the two solutions to the quadratic equation $ax^2 + bx + c = 0$ using the standard\n",
    "formula:\n",
    "\n",
    "$$x = \\frac{-b \\pm \\sqrt{b^2 - 4ac}}{2a}$$\n",
    "\n",
    "Use your program to compute the solutions of $0.001x^2 + 1000x + 0.001 = 0$."
   ]
  },
  {
   "cell_type": "code",
   "execution_count": 12,
   "metadata": {},
   "outputs": [
    {
     "name": "stdout",
     "output_type": "stream",
     "text": [
      "Input a: 0.001\n",
      "Input b: 1000\n",
      "Input c: 0.001\n",
      "The roots of the equation are -9.999894245993346e-07 and -999999.999999\n"
     ]
    }
   ],
   "source": [
    "def quadratic_equation():\n",
    "    a = float(input(\"Input a: \"))\n",
    "    b = float(input(\"Input b: \"))\n",
    "    c = float(input(\"Input c: \"))\n",
    "    sqroot = (b ** 2 - 4 * a * c) ** (1 / 2)\n",
    "    plusx = (-b + sqroot) / (2 * a)\n",
    "    minusx = (-b - sqroot) / (2 * a)\n",
    "    print(\"The roots of the equation are \" + str(plusx) + \" and \" + str(minusx))\n",
    "\n",
    "#def quadratic_equation2():\n",
    "#    a = float(input(\"Input a: \"))\n",
    "#    b = float(input(\"Input b: \"))\n",
    "#    c = float(input(\"Input c: \"))\n",
    "#    sqroot = math.sqrt(b ** 2 - 4 * a * c)\n",
    "#    plusx = (-b + sqroot) / (2 * a)\n",
    "#    minusx = (-b - sqroot) / (2 * a)\n",
    "#    print(\"The roots of the equation are \" + str(plusx) + \" and \" + str(minusx))\n",
    "\n",
    "quadratic_equation()\n",
    "#quadratic_equation2()"
   ]
  },
  {
   "cell_type": "markdown",
   "metadata": {},
   "source": [
    "There is another way to write the solutions to a quadratic equation. Multiplying top and bottom of the solution above by $-b \\mp \\sqrt{b^2 - 4ac}$, show that the solutions\n",
    "can also be written as:\n",
    "\n",
    "$$x = \\frac{2c}{-b \\mp \\sqrt{b^2 - 4ac}}$$\n",
    "\n",
    "Add further lines to your program to print these values in addition to the earlier ones and again use the program to solve $0.001x^2 + 1000x + 0.001 = 0$. What do you see? How do you explain it?"
   ]
  },
  {
   "cell_type": "code",
   "execution_count": 13,
   "metadata": {},
   "outputs": [
    {
     "name": "stdout",
     "output_type": "stream",
     "text": [
      "Input a: 0.001\n",
      "Input b: 1000\n",
      "Input c: 0.001\n",
      "The roots of the equation are -1000010.5755125057 and -1.000000000001e-06\n"
     ]
    }
   ],
   "source": [
    "def quadratic_equation2():\n",
    "    a = float(input(\"Input a: \"))\n",
    "    b = float(input(\"Input b: \"))\n",
    "    c = float(input(\"Input c: \"))\n",
    "    sqroot = (b ** 2 - 4 * a * c) ** (1 / 2)\n",
    "    plusx = 2 * c / (-b + sqroot)\n",
    "    minusx = 2 * c / (-b - sqroot)\n",
    "    print(\"The roots of the equation are \" + str(plusx) + \" and \" + str(minusx))\n",
    "\n",
    "quadratic_equation2()"
   ]
  },
  {
   "cell_type": "markdown",
   "metadata": {},
   "source": [
    "Using what you have learned, write a new program that calculates both roots of a quadratic equation accurately in all cases."
   ]
  },
  {
   "cell_type": "code",
   "execution_count": 66,
   "metadata": {},
   "outputs": [
    {
     "name": "stdout",
     "output_type": "stream",
     "text": [
      "Input a: 0.001\n",
      "Input b: 1000\n",
      "Input c: 0.001\n",
      "The roots of the equation are -1.000000000001e-06 and -999999.999999\n"
     ]
    }
   ],
   "source": [
    "def quadratic_equation3():\n",
    "    a = float(input(\"Input a: \"))\n",
    "    b = float(input(\"Input b: \"))\n",
    "    c = float(input(\"Input c: \"))\n",
    "    sqroot = (b ** 2 - 4 * a * c) ** (1 / 2)\n",
    "    plusx1 = (-b + sqroot) / (2 * a)\n",
    "    minusx1 = (-b - sqroot) / (2 * a)\n",
    "    plusx2 = 2 * c / (-b + sqroot)\n",
    "    minusx2 = 2 * c / (-b - sqroot)\n",
    "    plusy1 = a * plusx1 ** 2 + b * plusx1 + c\n",
    "    #print(plusy1)\n",
    "    minusy1 = a * minusx1 ** 2 + b * minusx1 + c\n",
    "    #print(minusy1)\n",
    "    plusy2 = a * plusx2 ** 2 + b * plusx2 + c\n",
    "    #print(plusy2)\n",
    "    minusy2 = a * minusx2 ** 2 + b * minusx2 + c\n",
    "    #print(minusy2)\n",
    "    if(abs(plusy1) < abs(minusy2)):\n",
    "        x1 = plusx1\n",
    "    else:\n",
    "        x1 = minusx2\n",
    "    if(abs(minusy1) < abs(plusy2)):\n",
    "        x2 = minusx1\n",
    "    else:\n",
    "        x2 = plusx2\n",
    "    print(\"The roots of the equation are \" + str(x1) + \" and \" + str(x2))\n",
    "\n",
    "quadratic_equation3()"
   ]
  },
  {
   "cell_type": "code",
   "execution_count": 64,
   "metadata": {},
   "outputs": [],
   "source": [
    "#a = 0.001\n",
    "#b = 1000\n",
    "#c = 0.001\n",
    "\n",
    "#x = -999999.999999\n",
    "#print(\"x = \" + str(x))\n",
    "#print(0.001 * (-999999.999999) ** 2 + 1000 * (-999999.999999) + 0.001)\n",
    "#print(0.001 * x ** 2 + 1000 * x + 0.001)\n",
    "#print(0.001 * x * x + 1000 * x + 0.001)\n",
    "#print((x ** 2 + 1000000 * x + 1) / 1000)\n",
    "#print(x * (0.001 * x + 1000) + 0.001)\n",
    "#print((x * (x + 1000000) + 1) / 1000)\n",
    "#print((-999999.999999) ** 2)\n",
    "#t1 = 0.001 * x * x\n",
    "#print(t1)\n",
    "#t2 = 1000 * x\n",
    "#print(t2)\n",
    "#print(0.001 * x * x + 1000 * x)\n",
    "#print(t1 + t2)\n",
    "#ip = x + 1000000\n",
    "#print(ip)\n",
    "#p1 = x * ip\n",
    "#print(p1)\n",
    "\n",
    "#x = -1.000000000001e-06\n",
    "#print(\"x = \" + str(x))\n",
    "#print(0.001 * x ** 2 + 1000 * x + 0.001)\n",
    "#print((x ** 2 + 1000000 * x + 1) / 1000)\n",
    "#print(x * (0.001 * x + 1000) + 0.001)\n",
    "#print((x * (x + 1000000) + 1) / 1000)\n",
    "#print(x ** 2)\n",
    "#print(1000000 * x)\n",
    "#print(x ** 2 + 1000000 * x)\n",
    "\n",
    "#x = -9.999894245993346e-07\n",
    "#print(\"x = \" + str(x))\n",
    "#print(0.001 * x ** 2 + 1000 * x + 0.001)\n",
    "#print((x ** 2 + 1000000 * x + 1) / 1000)\n",
    "#print(x * (0.001 * x + 1000) + 0.001)\n",
    "#print((x * (x + 1000000) + 1) / 1000)\n",
    "\n",
    "#x = -1000010.5755125057\n",
    "#print(\"x = \" + str(x))\n",
    "#print(0.001 * x ** 2 + 1000 * x + 0.001)\n",
    "#print((x ** 2 + 1000000 * x + 1) / 1000)\n",
    "#print(x * (0.001 * x + 1000) + 0.001)\n",
    "#print((x * (x + 1000000) + 1) / 1000)"
   ]
  },
  {
   "cell_type": "code",
   "execution_count": null,
   "metadata": {},
   "outputs": [],
   "source": []
  },
  {
   "cell_type": "code",
   "execution_count": null,
   "metadata": {},
   "outputs": [],
   "source": []
  }
 ],
 "metadata": {
  "kernelspec": {
   "display_name": "Python 3 (ipykernel)",
   "language": "python",
   "name": "python3"
  },
  "language_info": {
   "codemirror_mode": {
    "name": "ipython",
    "version": 3
   },
   "file_extension": ".py",
   "mimetype": "text/x-python",
   "name": "python",
   "nbconvert_exporter": "python",
   "pygments_lexer": "ipython3",
   "version": "3.9.12"
  }
 },
 "nbformat": 4,
 "nbformat_minor": 4
}
